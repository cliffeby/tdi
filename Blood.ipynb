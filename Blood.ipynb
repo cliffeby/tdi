{
 "cells": [
  {
   "cell_type": "markdown",
   "metadata": {},
   "source": [
    "Imports"
   ]
  },
  {
   "cell_type": "code",
   "execution_count": null,
   "metadata": {},
   "outputs": [],
   "source": [
    "\n",
    "import numpy as np\n",
    "import matplotlib.pyplot as plt\n",
    "import matplotlib.dates as mpl_dates\n",
    "import pandas as pd\n",
    "import random\n",
    "\n",
    "plt.style.use('seaborn')"
   ]
  },
  {
   "cell_type": "markdown",
   "metadata": {},
   "source": [
    "Load and Organize Blood Data"
   ]
  },
  {
   "cell_type": "code",
   "execution_count": null,
   "metadata": {},
   "outputs": [],
   "source": [
    "df = pd.read_csv(\"Blood_2023-11-11T1110.csv\")\n",
    "# print(df)\n",
    "##  Shorten col names\n",
    "df.rename(columns = {'Blood Draw Data Total Protein (g/dL)':'Protein'}, inplace = True)\n",
    "df.rename(columns = {'Blood Draw Data Appointment Date':'Date'}, inplace = True)\n",
    "df.rename(columns = {'Blood Draw Data Participant ID':'ID'}, inplace = True)\n",
    "df.rename(columns = {'Blood Draw Data A/G Ratio':'A/G Ratio'}, inplace = True)\n",
    "df = df[['ID', 'Date', 'Protein', 'A/G Ratio']]\n",
    "df= df.sort_values(by=['ID'], ascending=True)\n",
    "df['Date'] =pd.to_datetime(df['Date'])  ## convert date object to datetime\n",
    "print(df)\n",
    "print(df.dtypes) ## Show data types"
   ]
  },
  {
   "cell_type": "markdown",
   "metadata": {},
   "source": [
    "Exclude questionable data"
   ]
  },
  {
   "cell_type": "code",
   "execution_count": null,
   "metadata": {},
   "outputs": [],
   "source": [
    "pd.to_numeric(df['Protein'], errors = 'coerce').replace(np.nan, 0)  ## some data is text or NaN other is numeric\n",
    "\n",
    "df1 = df[df.Protein.lt(6)] ## View all protein values less than 6\n",
    "print(df1)\n",
    "df2 = df[df.Protein.gt(10)]  ## View all protein values greater than 10\n",
    "print(df2)\n",
    "df3 = df[df['A/G Ratio'].gt(2.5)]  ##  Same for A/G ratios\n",
    "print(df3)\n",
    "df4 = df[df['A/G Ratio'].lt(0.5)]\n",
    "print(df4)"
   ]
  },
  {
   "cell_type": "markdown",
   "metadata": {},
   "source": [
    "Exclude Protein values >= 10 and A/G Ratios > 2.5"
   ]
  },
  {
   "cell_type": "code",
   "execution_count": null,
   "metadata": {},
   "outputs": [],
   "source": [
    "df = df[df.Protein.lt(10)] \n",
    "df = df[df['A/G Ratio'].lt(2.5)]\n",
    "print(df)"
   ]
  },
  {
   "cell_type": "markdown",
   "metadata": {},
   "source": [
    "Group data by participant ID and get grouped stats"
   ]
  },
  {
   "cell_type": "code",
   "execution_count": null,
   "metadata": {},
   "outputs": [],
   "source": [
    "result = df.groupby('ID').agg({'Protein': ['count', 'mean', 'min', 'max']}) \n",
    "  \n",
    "print(\"Count, mean, min, and max values of Protein by ID\") \n",
    "print(result)\n",
    "\n",
    "result1 = df.groupby('ID').agg({'A/G Ratio': ['count', 'mean', 'min', 'max']}) \n",
    "  \n",
    "print(\"Count, mean, min, and max values of Protein by ID\") \n",
    "print(result1)"
   ]
  },
  {
   "cell_type": "markdown",
   "metadata": {},
   "source": [
    "Plot protein data"
   ]
  },
  {
   "cell_type": "code",
   "execution_count": null,
   "metadata": {},
   "outputs": [],
   "source": [
    "result.hist()  ##Protein values\n",
    "plt.xlabel(\"g/dl\")\n",
    "plt.ylabel(\"count\")\n",
    "plt.show()\n",
    "\n",
    "result1.hist()  ## A/G ratios\n",
    "plt.show()\n",
    "# plt.savefig(\"protein.jpg\")  ## Use VSCode to save as png"
   ]
  },
  {
   "cell_type": "markdown",
   "metadata": {},
   "source": [
    "Sort data in time series and plot trends"
   ]
  },
  {
   "cell_type": "code",
   "execution_count": null,
   "metadata": {},
   "outputs": [],
   "source": [
    "df = df.sort_values(by=['ID','Date'], ascending=True) ##  Sort by ID then Date\n",
    "df = df.groupby('ID').filter(lambda x : len(x)>5)  # Reduce data to IDs with six or more blood draws\n",
    "\n",
    "plt.plot_date(df['Date'], df['Protein'], color = 'red',linestyle = 'solid')\n",
    "plt.gcf().autofmt_xdate()"
   ]
  },
  {
   "cell_type": "markdown",
   "metadata": {},
   "source": [
    "Plot each ID in a separate trend line "
   ]
  },
  {
   "cell_type": "code",
   "execution_count": null,
   "metadata": {},
   "outputs": [],
   "source": [
    "fig, ax = plt.subplots(figsize=(10, 8))\n",
    "\n",
    "for n, g in df.groupby('ID'):\n",
    "    g.plot(\n",
    "        x=\"Date\", y=\"Protein\",\n",
    "        xlabel=\"Cycle\", ylabel=\"Salary\",\n",
    "        label=f\"id {n}\",\n",
    "        ax=ax,\n",
    ")\n",
    "\n",
    "plt.show();"
   ]
  },
  {
   "cell_type": "markdown",
   "metadata": {},
   "source": [
    "Subplot each participant's trend - Protein Level"
   ]
  },
  {
   "cell_type": "code",
   "execution_count": null,
   "metadata": {},
   "outputs": [],
   "source": [
    "import random\n",
    "fig, axs = plt.subplots(figsize=(10, 8), nrows=4, ncols=3)\n",
    "c = ['purple', 'red', 'green', 'blue', 'black', 'brown', 'gold', 'silver', 'aqua']\n",
    "for (n, g), ax in zip(df.groupby(\"ID\"), axs.flatten()):\n",
    "    g.plot(\n",
    "        x=\"Date\", y=\"Protein\", marker='o',\n",
    "        xlabel=\"Date\", ylabel=\"g/dl\",\n",
    "        label=f\"Participant {n}\",\n",
    "        color=c[random.randint(0, 8)],\n",
    "        ax=ax,\n",
    "    )\n",
    "fig.suptitle('Do proteins levels trend or plateau?', fontsize = 20, color = 'black')\n",
    "plt.tight_layout()\n",
    "plt.show()"
   ]
  },
  {
   "cell_type": "markdown",
   "metadata": {},
   "source": [
    "Subplot each participant's trend - A/G Ratio"
   ]
  },
  {
   "cell_type": "code",
   "execution_count": null,
   "metadata": {},
   "outputs": [],
   "source": [
    "fig, axs = plt.subplots(figsize=(10, 8), nrows=4, ncols=3)\n",
    "c = ['purple', 'red', 'green', 'blue', 'black', 'brown', 'gold', 'silver', 'aqua']\n",
    "for (n, g), ax in zip(df.groupby(\"ID\"), axs.flatten()):\n",
    "    g.plot(\n",
    "        x=\"Date\", y=\"A/G Ratio\", marker='o',\n",
    "        xlabel=\"Date\", ylabel=\"A/G\",\n",
    "        label=f\"Participant {n}\",\n",
    "        color=c[random.randint(0, 8)],\n",
    "        ax=ax,\n",
    "    )\n",
    "fig.suptitle('Do A/G ratios trend or plateau?', fontsize = 20, color = 'black')\n",
    "plt.tight_layout()\n",
    "plt.show()"
   ]
  }
 ],
 "metadata": {
  "kernelspec": {
   "display_name": "Python 3",
   "language": "python",
   "name": "python3"
  },
  "language_info": {
   "codemirror_mode": {
    "name": "ipython",
    "version": 3
   },
   "file_extension": ".py",
   "mimetype": "text/x-python",
   "name": "python",
   "nbconvert_exporter": "python",
   "pygments_lexer": "ipython3",
   "version": "3.11.1"
  },
  "orig_nbformat": 4
 },
 "nbformat": 4,
 "nbformat_minor": 2
}
